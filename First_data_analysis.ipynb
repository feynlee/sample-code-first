{
 "cells": [
  {
   "cell_type": "code",
   "execution_count": 1,
   "metadata": {
    "collapsed": true
   },
   "outputs": [],
   "source": [
    "from __future__ import division  # float division\n",
    "import matplotlib.pyplot as plt\n",
    "%matplotlib inline\n",
    "\n",
    "import pandas as pd\n",
    "import numpy as np\n",
    "\n",
    "from sklearn.base import BaseEstimator, ClassifierMixin, TransformerMixin\n",
    "from sklearn.ensemble import RandomForestClassifier\n",
    "from sklearn import grid_search\n",
    "from sklearn.pipeline import Pipeline, FeatureUnion\n",
    "from sklearn.cross_validation import StratifiedKFold, train_test_split\n",
    "from sklearn.metrics import confusion_matrix, accuracy_score, classification_report, f1_score\n",
    "from sklearn.naive_bayes import GaussianNB, MultinomialNB, BernoulliNB"
   ]
  },
  {
   "cell_type": "markdown",
   "metadata": {},
   "source": [
    "# 1. Overview of the data set"
   ]
  },
  {
   "cell_type": "code",
   "execution_count": 26,
   "metadata": {
    "collapsed": false
   },
   "outputs": [
    {
     "name": "stdout",
     "output_type": "stream",
     "text": [
      "0.112994 of household moved\n",
      "The baseline accuracy for our classifier is 0.887006\n"
     ]
    }
   ],
   "source": [
    "data = pd.read_csv(\"SampleData.csv\")\n",
    "\n",
    "# Create a new column to indicate whether there's a new purchase between May 2015 and Dec 2015.\n",
    "# 1 means yes, 0 means no. This is our target column.\n",
    "def target(row):\n",
    "    # Check if the purchase dates up to May 2015 and Dec 2015 are the same\n",
    "    # If not, it means there's a new purchase\n",
    "    if row[\"Home Purchase Date (YYYY/MM)_hist\"]!=row[\"Home Purchase Date (YYYY/MM)_curr\"]:\n",
    "        return 1\n",
    "    else:\n",
    "        return 0\n",
    "    \n",
    "data.loc[:,\"New_Purchase\"]=data.apply(lambda row: target(row), axis=1)\n",
    "\n",
    "# Number of records that show a new home purchase between May 2015 and Dec 2015\n",
    "nmoved = data[data.New_Purchase==1].shape[0]\n",
    "ntotal = data.shape[0]\n",
    "# Percentage of household that moved between May 2015 and Dec 2015\n",
    "p_moved = nmoved/ntotal\n",
    "baseline = 1 - p_moved\n",
    "\n",
    "print \"%f of household moved\" % p_moved\n",
    "print \"The baseline accuracy for our classifier is %f\" % baseline"
   ]
  },
  {
   "cell_type": "markdown",
   "metadata": {},
   "source": [
    "The two classes are unbalanced in this data set, with only 11.3% in the \"moved\" class. Therefore, our model performance should be compared with the baseline of blindingly predicting 'will move' for every household, which gives an accuracy of about 88.7%."
   ]
  },
  {
   "cell_type": "markdown",
   "metadata": {},
   "source": [
    "# 2. Data transformation: dealing with missing data"
   ]
  },
  {
   "cell_type": "markdown",
   "metadata": {},
   "source": [
    "Missing data can be delt with in many different ways. In order to maximize the utilization of data, I will try not to remove records with missing values in some of the features. Some of the missing data are quite easy to deal with. For example, to deal with missing data in categorical features, we can simply treat it as another \"category\" for our model to learn, because if we don't know the value for that feature, these records are naturally in a separate category. Some other features such as \"Newlywed\" and \"Expectant Parent\" only denotes \"Y\" (yes) for positive answer, and thus we can infer that the missing data all represent \"N\" (no). Therefore, we can encode them into binary (0 and 1) data. Some other features like \"Home Square Footage - Actual\" and \"Home Year Built - Actual\" are numerical. In order to use these features and not reduce the sample data size, I will use the average value as an substitute for the missing values. Finally, the missing values in the \"Income - Estimated Household\" feature can estimated using values in the \"Census Median Household Income\" column. To summarize:\n",
    "\n",
    "* Home Square Footage - Actual: 556 missing - use the average for missing values\n",
    "* Home Year Built - Actual: 1806 missing - use the average for missing values\n",
    "* Home Loan-to-Value - Estimated - Ranges: 6347 missing - c\n",
    "* Income - Estimated Household: 2081 missing - can use \"Census Median Household Income\" to estimate\n",
    "* Generations in Household: 1595 missing - c\n",
    "* New Parent: 47223 missing - c\n",
    "* Expectant Parent: 48845 missing - n\n",
    "* Newlywed: 48666 missing - n\n",
    "* Marital Status in the Household: 1564 missing - c\n",
    "\n",
    "\"c\" in the above list indicates that we can simply treat the missing values as a separate \"category\".\n",
    "\"n\" in the above list indicates that we can treate the missing values as category \"no\" or \"N\"."
   ]
  },
  {
   "cell_type": "code",
   "execution_count": 27,
   "metadata": {
    "collapsed": false
   },
   "outputs": [],
   "source": [
    "# For \"Expectant Parent\" and \"Newlywed\" columns, convert \"Y\" to 1 and missing value NaN to 0.\n",
    "data.loc[:,'Expectant Parent'] = data['Expectant Parent'].map(lambda x: 1 if x=='Y' or x==1 else 0)\n",
    "data.loc[:,'Newlywed'] = data['Newlywed'].map(lambda x: 1 if x=='Y' or x==1 else 0)\n",
    "\n",
    "# For \"New Parent\", \"Marital Status in the Household\", \"Home Loan-to-Value - Estimated - Ranges\", \n",
    "# and \"Generations in Household\", we assign the missing data another category named \"Z\"\n",
    "data.loc[:,'Marital Status in the Household'] = \\\n",
    "                         data['Marital Status in the Household'].fillna(\"Z\")\n",
    "data.loc[:,'Home Loan-to-Value - Estimated - Ranges'] = \\\n",
    "                         data['Home Loan-to-Value - Estimated - Ranges'].fillna('Z')\n",
    "data.loc[:,'New Parent'] = data['New Parent'].fillna(\"Z\")\n",
    "data.loc[:,'Generations in Household'] = data['Generations in Household'].fillna(\"Z\")\n",
    "\n",
    "# For \"Generations in Household\", we also convert 1,2,3 to letters A, B, C \n",
    "# so that we can use pd.get_dummies() later.\n",
    "data.loc[:,'Generations in Household'] = data['Generations in Household'].map(\n",
    "                         lambda x: 'A' if x==1 else 'B' if x==2 else 'C' if x==3 else 'Z')\n",
    "\n",
    "# For \"Home Square Footage - Actual\" and \"Home Year Built - Actual\", \n",
    "# use the average values to replace missing data\n",
    "data.loc[:,'Home Square Footage - Actual'] = data['Home Square Footage - Actual'].fillna(\n",
    "    data['Home Square Footage - Actual'].mean())\n",
    "data.loc[:,'Home Year Built - Actual'] = data['Home Year Built - Actual'].fillna(\n",
    "    int(data['Home Year Built - Actual'].mean()))\n",
    "\n",
    "\n",
    "\n",
    "# For missing values in \"Income - Estimated Household\" column, use the corresponding \n",
    "# \"Census Median Household Income\" to estimate.\n",
    "\n",
    "# First, define a function to properly assign the category of income based on \n",
    "# \"Census Median Household Income\" value\n",
    "def categorize_income(x):\n",
    "    # The numbers quoted in this column are in hundreds\n",
    "    income = x*100\n",
    "    if income<15000:\n",
    "        return 1\n",
    "    elif income<20000:\n",
    "        return 2\n",
    "    elif income<30000:\n",
    "        return 3\n",
    "    elif income<40000:\n",
    "        return 4\n",
    "    elif income<50000:\n",
    "        return 5\n",
    "    elif income<75000:\n",
    "        return 6\n",
    "    elif income<100000:\n",
    "        return 7\n",
    "    elif income<125000:\n",
    "        return 8\n",
    "    else:\n",
    "        return 9\n",
    "    \n",
    "# Then fill the missing values in \"Income - Estimated Household\" with the income categories \n",
    "# based on \"Census Median Household Income\"\n",
    "data.loc[data['Income - Estimated Household'].isnull(),'Income - Estimated Household'] = \\\n",
    "data[\"Census Median Household Income\"].map(lambda x: categorize_income(x))\n",
    "# Map 1-9 to letters A-I so that we can use pd.get_dummies() later\n",
    "toletters = {1:'A',2:'B',3:'C',4:'D',5:'E',6:'F',7:'G',8:'H',9:'I'}\n",
    "data.loc[:,'Income - Estimated Household'] = data['Income - Estimated Household'].map(\n",
    "                                                                lambda x: toletters[x])"
   ]
  },
  {
   "cell_type": "markdown",
   "metadata": {},
   "source": [
    "# 3. Predictive Model"
   ]
  },
  {
   "cell_type": "markdown",
   "metadata": {},
   "source": [
    "### 3.1. Vectorize categorical features and combine them with other features using FeatureUnion"
   ]
  },
  {
   "cell_type": "code",
   "execution_count": 6,
   "metadata": {
    "collapsed": false
   },
   "outputs": [],
   "source": [
    "# This transformer does the one-hot encoding for categorical features\n",
    "class DummyTransformer(BaseEstimator, TransformerMixin):\n",
    "    def __init__(self, keys):\n",
    "        # initialization code with a list of feature names\n",
    "        self.keys = keys\n",
    "\n",
    "    def fit(self, X, y=None):\n",
    "        return self\n",
    "\n",
    "    def transform(self, X):\n",
    "        # use get_dummies() to transform categorical data using \"one-hot encoding\" \n",
    "        # and output a sparse matrix\n",
    "        self.dummies = pd.get_dummies(X[self.keys]).as_matrix()\n",
    "        \n",
    "        return self.dummies\n",
    "\n",
    "# This transformer simply selects specified features, and output a matrix\n",
    "class ColumnSelectTransformer(BaseEstimator, TransformerMixin):\n",
    "    def __init__(self, keys):\n",
    "        self.keys = keys\n",
    "\n",
    "    def fit(self, X, y=None):\n",
    "        return self\n",
    "\n",
    "    def transform(self, X):\n",
    "        # output in matrix form\n",
    "        self.matrix = X[self.keys].as_matrix()\n",
    "        return self.matrix\n",
    "    \n",
    "# Combine one-hot encoded features with other features\n",
    "features = FeatureUnion(transformer_list = \n",
    "                        [# Categorical features that needs to be one-hot encoded\n",
    "                         ('categorical', DummyTransformer(['Home Loan-to-Value - Estimated - Ranges',\n",
    "                                                          'Home Market Value - Estimated', \n",
    "                                                          'Income - Estimated Household',\n",
    "                                                          'Generations in Household', 'New Parent',\n",
    "                                                          'Marital Status in the Household'])),\n",
    "                         # Other features\n",
    "                         ('other', ColumnSelectTransformer(['Expectant Parent', 'Newlywed', \n",
    "                                                            'Home Length of Residence',\n",
    "                                                            'Home Square Footage - Actual', \n",
    "                                                            'Home Year Built - Actual']))\n",
    "                        ])"
   ]
  },
  {
   "cell_type": "markdown",
   "metadata": {},
   "source": [
    "The 11 features I used are listed as follows:\n",
    "\n",
    "Categorical features that need to be one-hot encoded: \n",
    "* Home Loan-to-Value - Estimated - Ranges\n",
    "* Home Market Value - Estimated\n",
    "* Income - Estimated Household\n",
    "* Generations in Household\n",
    "* New Parent\n",
    "* Marital Status in the Household\n",
    "\n",
    "Categorical features already one-hot encoded at the 'data transformation' stage:\n",
    "* Expectant Parent\n",
    "* Newlywed\n",
    "\n",
    "Other features to use:\n",
    "* Home Length of Residence\n",
    "* Home Square Footage - Actual\n",
    "* Home Year Built - Actual"
   ]
  },
  {
   "cell_type": "markdown",
   "metadata": {},
   "source": [
    "### 3.2. Construct the full model using Pipeline"
   ]
  },
  {
   "cell_type": "markdown",
   "metadata": {},
   "source": [
    "In this classifier, I've set 'class_weight' to be 'balanced' to take into account the skewed classes in the data set. I also set 'scoring' to 'recall' to capture more real moving households, since from the business perspective, it is more important to capture more households that are about to move instead of getting a super high precision or total accuracy.\n",
    "\n",
    "Note: I've grid searched and picked n_estimators=1000 for the random forest classifier, which takes some time to fit the data. To speed it up, one can reduce the n_estimators to 500 without reducing the accuracy too much."
   ]
  },
  {
   "cell_type": "code",
   "execution_count": 17,
   "metadata": {
    "collapsed": false
   },
   "outputs": [],
   "source": [
    "# A random forest classifier with 5-fold cross validation\n",
    "class rf_model(BaseEstimator, ClassifierMixin):\n",
    "    def __init__(self):\n",
    "        pass\n",
    "    \n",
    "    def fit(self, X, y):\n",
    "        # use 5-fold stratified cross validation\n",
    "        cv = StratifiedKFold(y, n_folds = 5, random_state=42)\n",
    "        # parameters to adjust during cross validation\n",
    "        param_grid = { \"min_samples_leaf\": [1,2,5] }\n",
    "        \n",
    "        # Note here in the classifier, I use 'balanced' class_weight \n",
    "        # to rebalance the effects of the skewed data\n",
    "        self.random_forest_cv = grid_search.GridSearchCV(\n",
    "                                    RandomForestClassifier(class_weight='balanced', \n",
    "                                                           n_estimators=1000,\n",
    "                                                           n_jobs=-1), \n",
    "                                    param_grid=param_grid, cv=cv, scoring='recall')\n",
    "        self.random_forest_cv.fit(X, y)\n",
    "        return self\n",
    "    \n",
    "    def predict(self, X):\n",
    "        self.result = self.random_forest_cv.predict(X)\n",
    "        return self.result\n",
    "    \n",
    "    def predict_proba(self, X):\n",
    "        self.proba = self.random_forest_cv.predict_proba(X)\n",
    "        return self.proba\n",
    "     \n",
    "    \n",
    "# Combine everything to construct the full model\n",
    "fullmodel_rf = Pipeline([('featureunion', features), \n",
    "                         ('est', rf_model())\n",
    "                        ])"
   ]
  },
  {
   "cell_type": "markdown",
   "metadata": {},
   "source": [
    "### 3.3. Testing model"
   ]
  },
  {
   "cell_type": "markdown",
   "metadata": {},
   "source": [
    "I split the data into training-validation set and testing set at a 80%-20% ratio, and report the testing result on the test set."
   ]
  },
  {
   "cell_type": "code",
   "execution_count": 18,
   "metadata": {
    "collapsed": false
   },
   "outputs": [
    {
     "name": "stdout",
     "output_type": "stream",
     "text": [
      "Test Accuracy Score:  0.947702384608\n",
      "             precision    recall  f1-score   support\n",
      "\n",
      "          0       0.95      0.99      0.97      8637\n",
      "          1       0.90      0.62      0.73      1134\n",
      "\n",
      "avg / total       0.95      0.95      0.94      9771\n",
      "\n"
     ]
    },
    {
     "data": {
      "image/png": "[encoded data removed]",
      "text/plain": [
       "<matplotlib.figure.Figure at 0x119ee35d0>"
      ]
     },
     "metadata": {},
     "output_type": "display_data"
    },
    {
     "data": {
      "text/html": [
       "<div>\n",
       "<table border=\"1\" class=\"dataframe\">\n",
       "  <thead>\n",
       "    <tr style=\"text-align: right;\">\n",
       "      <th></th>\n",
       "      <th>class 'stay' pred</th>\n",
       "      <th>class 'move' pred</th>\n",
       "    </tr>\n",
       "  </thead>\n",
       "  <tbody>\n",
       "    <tr>\n",
       "      <th>class 'stay' actual</th>\n",
       "      <td>8559</td>\n",
       "      <td>78</td>\n",
       "    </tr>\n",
       "    <tr>\n",
       "      <th>class 'move' actual</th>\n",
       "      <td>433</td>\n",
       "      <td>701</td>\n",
       "    </tr>\n",
       "  </tbody>\n",
       "</table>\n",
       "</div>"
      ],
      "text/plain": [
       "                     class 'stay' pred  class 'move' pred\n",
       "class 'stay' actual               8559                 78\n",
       "class 'move' actual                433                701"
      ]
     },
     "execution_count": 18,
     "metadata": {},
     "output_type": "execute_result"
    }
   ],
   "source": [
    "X = data[['Home Loan-to-Value - Estimated - Ranges', 'Home Market Value - Estimated', \n",
    "          'Income - Estimated Household', 'Generations in Household', 'New Parent', \n",
    "          'Marital Status in the Household', 'Expectant Parent', 'Newlywed', \n",
    "          'Home Length of Residence', 'Home Square Footage - Actual', 'Home Year Built - Actual']]\n",
    "y = data['New_Purchase'].as_matrix()\n",
    "\n",
    "# Split data into training and testing set, with test size 20% of the full data set\n",
    "X_train, X_test, y_train, y_test = train_test_split(X, y, test_size=0.2, random_state=42)\n",
    "\n",
    "# Fit the training data and then predict on the test data\n",
    "fullmodel_rf.fit(X_train,y_train)\n",
    "y_pred = fullmodel_rf.predict(X_test)\n",
    "\n",
    "\n",
    "# This function plots the confusion matrix\n",
    "def plot_confusion_matrix(cm, title='Confusion matrix', cmap=plt.cm.Blues):\n",
    "    plt.imshow(cm, interpolation='nearest', cmap=cmap)\n",
    "    plt.title(title)\n",
    "    plt.colorbar()\n",
    "    tick_marks = np.arange(2)\n",
    "    plt.xticks(tick_marks, ['stay','move'], rotation=45)\n",
    "    plt.yticks(tick_marks, ['stay','move'])\n",
    "    plt.tight_layout()\n",
    "    plt.ylabel('True label')\n",
    "    plt.xlabel('Predicted label')\n",
    "\n",
    "# Define a function to output all relevant information, such as accuracy score, \n",
    "# classification report which includes precision, recall, f1-score for each class, \n",
    "# and the confusion matrix.\n",
    "def classifier_metrics(y_test, y_pred):\n",
    "    print \"Test Accuracy Score: \", accuracy_score(y_test, y_pred)\n",
    "    print classification_report(y_test, y_pred)\n",
    "    # Put the confusion matrix into pandas dataframe for better display\n",
    "    cm = pd.DataFrame(confusion_matrix(y_test, y_pred), \n",
    "                      index = [\"class 'stay' actual\", \"class 'move' actual\"],\n",
    "                      columns = [\"class 'stay' pred\", \"class 'move' pred\"])\n",
    "    # Normalized the confusion matrix by row\n",
    "    cm_normalized = cm.div(cm.sum(axis=1), axis=0)\n",
    "    plot_confusion_matrix(cm_normalized)\n",
    "    plt.show()\n",
    "    \n",
    "    return cm\n",
    "    \n",
    "classifier_metrics(y_test, y_pred)"
   ]
  },
  {
   "cell_type": "markdown",
   "metadata": {},
   "source": [
    "### 3.4. Predict the probablity to move"
   ]
  },
  {
   "cell_type": "code",
   "execution_count": 9,
   "metadata": {
    "collapsed": false
   },
   "outputs": [
    {
     "data": {
      "text/plain": [
       "array([[ 0.987,  0.013],\n",
       "       [ 0.958,  0.042],\n",
       "       [ 0.999,  0.001],\n",
       "       ..., \n",
       "       [ 0.993,  0.007],\n",
       "       [ 0.952,  0.048],\n",
       "       [ 0.996,  0.004]])"
      ]
     },
     "execution_count": 9,
     "metadata": {},
     "output_type": "execute_result"
    }
   ],
   "source": [
    "# Predict the probability to move\n",
    "fullmodel_rf.predict_proba(X_test)"
   ]
  },
  {
   "cell_type": "markdown",
   "metadata": {},
   "source": [
    "## <font color=blue>>> Conlusion:</font>\n",
    "\n",
    "### <font color=blue>The second column in the above output are the model's predicted probabilities to move. This result is dependent on our model parameters.</font>\n",
    "\n",
    "### <font color=blue>As shown above, our model's test accuracy score is 94.8%, which is above the 88.7% baseline. From the confusion matrix, and the classification report, one can see that our prediction for 'move' has 90% accuracy, which means 90% of what we predict as 'move' will move. On the other hand, the recall for 'move' is only 62%, which means we only captured 62% of households that are actually moving. From the business perspective, we want to capture more households that are about to move. So one may want to adjust the model parameters, to see whether we can capture more households that are moving. In other words, one can play with the parameters to see whether we can increase the recall by decreasing the precision in our prediction.</font>"
   ]
  },
  {
   "cell_type": "markdown",
   "metadata": {},
   "source": [
    "# 4. Appendix: Naive Bays Model"
   ]
  },
  {
   "cell_type": "markdown",
   "metadata": {},
   "source": [
    "One can of couse test some other classifiers, for example the Navie Bays classifiers, to see how they perform. From my test, the random forest classifier seems to be more flexible and gives better results overall in terms of total accuracy, precision, recall and f-1 scores."
   ]
  },
  {
   "cell_type": "code",
   "execution_count": 19,
   "metadata": {
    "collapsed": false
   },
   "outputs": [
    {
     "name": "stdout",
     "output_type": "stream",
     "text": [
      "Test Accuracy Score:  0.731552553475\n",
      "             precision    recall  f1-score   support\n",
      "\n",
      "          0       0.93      0.75      0.83      8637\n",
      "          1       0.23      0.57      0.33      1134\n",
      "\n",
      "avg / total       0.85      0.73      0.77      9771\n",
      "\n"
     ]
    },
    {
     "data": {
      "image/png": "[encoded data removed]",
      "text/plain": [
       "<matplotlib.figure.Figure at 0x11795e510>"
      ]
     },
     "metadata": {},
     "output_type": "display_data"
    },
    {
     "data": {
      "text/html": [
       "<div>\n",
       "<table border=\"1\" class=\"dataframe\">\n",
       "  <thead>\n",
       "    <tr style=\"text-align: right;\">\n",
       "      <th></th>\n",
       "      <th>class 'stay' pred</th>\n",
       "      <th>class 'move' pred</th>\n",
       "    </tr>\n",
       "  </thead>\n",
       "  <tbody>\n",
       "    <tr>\n",
       "      <th>class 'stay' actual</th>\n",
       "      <td>6503</td>\n",
       "      <td>2134</td>\n",
       "    </tr>\n",
       "    <tr>\n",
       "      <th>class 'move' actual</th>\n",
       "      <td>489</td>\n",
       "      <td>645</td>\n",
       "    </tr>\n",
       "  </tbody>\n",
       "</table>\n",
       "</div>"
      ],
      "text/plain": [
       "                     class 'stay' pred  class 'move' pred\n",
       "class 'stay' actual               6503               2134\n",
       "class 'move' actual                489                645"
      ]
     },
     "execution_count": 19,
     "metadata": {},
     "output_type": "execute_result"
    }
   ],
   "source": [
    "# Use the Gaussian Naive Bayes classifier to construct the full model\n",
    "fullmodel_nb = Pipeline([('featureunion', features), \n",
    "                         ('est', GaussianNB())\n",
    "                        ])\n",
    "\n",
    "# Fit the training data and then predict on the test data\n",
    "fullmodel_nb.fit(X_train,y_train)\n",
    "y_pred = fullmodel_nb.predict(X_test)\n",
    "\n",
    "classifier_metrics(y_test, y_pred)"
   ]
  },
  {
   "cell_type": "code",
   "execution_count": 20,
   "metadata": {
    "collapsed": false
   },
   "outputs": [
    {
     "data": {
      "text/plain": [
       "array([[ 0.93941998,  0.06058002],\n",
       "       [ 0.91050537,  0.08949463],\n",
       "       [ 0.99100212,  0.00899788],\n",
       "       ..., \n",
       "       [ 0.93084356,  0.06915644],\n",
       "       [ 0.98583116,  0.01416884],\n",
       "       [ 0.83106656,  0.16893344]])"
      ]
     },
     "execution_count": 20,
     "metadata": {},
     "output_type": "execute_result"
    }
   ],
   "source": [
    "# Predict the probability to move\n",
    "fullmodel_nb.predict_proba(X_test)"
   ]
  }
 ],
 "metadata": {
  "kernelspec": {
   "display_name": "Python 2",
   "language": "python",
   "name": "python2"
  },
  "language_info": {
   "codemirror_mode": {
    "name": "ipython",
    "version": 2
   },
   "file_extension": ".py",
   "mimetype": "text/x-python",
   "name": "python",
   "nbconvert_exporter": "python",
   "pygments_lexer": "ipython2",
   "version": "2.7.10"
  }
 },
 "nbformat": 4,
 "nbformat_minor": 0
}
